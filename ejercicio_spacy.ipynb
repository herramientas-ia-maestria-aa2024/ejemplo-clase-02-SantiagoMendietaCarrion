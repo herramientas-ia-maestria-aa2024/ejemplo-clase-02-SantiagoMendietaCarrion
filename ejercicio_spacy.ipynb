{
 "cells": [
  {
   "cell_type": "markdown",
   "metadata": {},
   "source": [
    "### Ejercicio Spacy"
   ]
  },
  {
   "cell_type": "code",
   "execution_count": 1,
   "metadata": {},
   "outputs": [
    {
     "name": "stdout",
     "output_type": "stream",
     "text": [
      "Requirement already satisfied: spacy in d:\\documentos\\maestria_en_inteligencia_artificial\\materias\\herramientas_para_la_inteligencia_artificial\\ejercicio_spacy\\env\\lib\\site-packages (3.7.4)\n",
      "Requirement already satisfied: weasel<0.4.0,>=0.1.0 in d:\\documentos\\maestria_en_inteligencia_artificial\\materias\\herramientas_para_la_inteligencia_artificial\\ejercicio_spacy\\env\\lib\\site-packages (from spacy) (0.3.4)\n",
      "Requirement already satisfied: smart-open<7.0.0,>=5.2.1 in d:\\documentos\\maestria_en_inteligencia_artificial\\materias\\herramientas_para_la_inteligencia_artificial\\ejercicio_spacy\\env\\lib\\site-packages (from spacy) (6.4.0)\n",
      "Requirement already satisfied: numpy>=1.19.0 in d:\\documentos\\maestria_en_inteligencia_artificial\\materias\\herramientas_para_la_inteligencia_artificial\\ejercicio_spacy\\env\\lib\\site-packages (from spacy) (1.26.4)\n",
      "Requirement already satisfied: jinja2 in d:\\documentos\\maestria_en_inteligencia_artificial\\materias\\herramientas_para_la_inteligencia_artificial\\ejercicio_spacy\\env\\lib\\site-packages (from spacy) (3.1.3)\n",
      "Requirement already satisfied: requests<3.0.0,>=2.13.0 in d:\\documentos\\maestria_en_inteligencia_artificial\\materias\\herramientas_para_la_inteligencia_artificial\\ejercicio_spacy\\env\\lib\\site-packages (from spacy) (2.31.0)\n",
      "Requirement already satisfied: thinc<8.3.0,>=8.2.2 in d:\\documentos\\maestria_en_inteligencia_artificial\\materias\\herramientas_para_la_inteligencia_artificial\\ejercicio_spacy\\env\\lib\\site-packages (from spacy) (8.2.3)\n",
      "Requirement already satisfied: wasabi<1.2.0,>=0.9.1 in d:\\documentos\\maestria_en_inteligencia_artificial\\materias\\herramientas_para_la_inteligencia_artificial\\ejercicio_spacy\\env\\lib\\site-packages (from spacy) (1.1.2)\n",
      "Requirement already satisfied: packaging>=20.0 in d:\\documentos\\maestria_en_inteligencia_artificial\\materias\\herramientas_para_la_inteligencia_artificial\\ejercicio_spacy\\env\\lib\\site-packages (from spacy) (24.0)\n",
      "Requirement already satisfied: srsly<3.0.0,>=2.4.3 in d:\\documentos\\maestria_en_inteligencia_artificial\\materias\\herramientas_para_la_inteligencia_artificial\\ejercicio_spacy\\env\\lib\\site-packages (from spacy) (2.4.8)\n",
      "Requirement already satisfied: preshed<3.1.0,>=3.0.2 in d:\\documentos\\maestria_en_inteligencia_artificial\\materias\\herramientas_para_la_inteligencia_artificial\\ejercicio_spacy\\env\\lib\\site-packages (from spacy) (3.0.9)\n",
      "Requirement already satisfied: murmurhash<1.1.0,>=0.28.0 in d:\\documentos\\maestria_en_inteligencia_artificial\\materias\\herramientas_para_la_inteligencia_artificial\\ejercicio_spacy\\env\\lib\\site-packages (from spacy) (1.0.10)\n",
      "Requirement already satisfied: catalogue<2.1.0,>=2.0.6 in d:\\documentos\\maestria_en_inteligencia_artificial\\materias\\herramientas_para_la_inteligencia_artificial\\ejercicio_spacy\\env\\lib\\site-packages (from spacy) (2.0.10)\n",
      "Requirement already satisfied: pydantic!=1.8,!=1.8.1,<3.0.0,>=1.7.4 in d:\\documentos\\maestria_en_inteligencia_artificial\\materias\\herramientas_para_la_inteligencia_artificial\\ejercicio_spacy\\env\\lib\\site-packages (from spacy) (2.7.1)\n",
      "Requirement already satisfied: setuptools in d:\\documentos\\maestria_en_inteligencia_artificial\\materias\\herramientas_para_la_inteligencia_artificial\\ejercicio_spacy\\env\\lib\\site-packages (from spacy) (65.5.0)\n",
      "Requirement already satisfied: cymem<2.1.0,>=2.0.2 in d:\\documentos\\maestria_en_inteligencia_artificial\\materias\\herramientas_para_la_inteligencia_artificial\\ejercicio_spacy\\env\\lib\\site-packages (from spacy) (2.0.8)\n",
      "Requirement already satisfied: typer<0.10.0,>=0.3.0 in d:\\documentos\\maestria_en_inteligencia_artificial\\materias\\herramientas_para_la_inteligencia_artificial\\ejercicio_spacy\\env\\lib\\site-packages (from spacy) (0.9.4)\n",
      "Requirement already satisfied: spacy-legacy<3.1.0,>=3.0.11 in d:\\documentos\\maestria_en_inteligencia_artificial\\materias\\herramientas_para_la_inteligencia_artificial\\ejercicio_spacy\\env\\lib\\site-packages (from spacy) (3.0.12)\n",
      "Requirement already satisfied: spacy-loggers<2.0.0,>=1.0.0 in d:\\documentos\\maestria_en_inteligencia_artificial\\materias\\herramientas_para_la_inteligencia_artificial\\ejercicio_spacy\\env\\lib\\site-packages (from spacy) (1.0.5)\n",
      "Requirement already satisfied: tqdm<5.0.0,>=4.38.0 in d:\\documentos\\maestria_en_inteligencia_artificial\\materias\\herramientas_para_la_inteligencia_artificial\\ejercicio_spacy\\env\\lib\\site-packages (from spacy) (4.66.2)\n",
      "Requirement already satisfied: langcodes<4.0.0,>=3.2.0 in d:\\documentos\\maestria_en_inteligencia_artificial\\materias\\herramientas_para_la_inteligencia_artificial\\ejercicio_spacy\\env\\lib\\site-packages (from spacy) (3.3.0)\n",
      "Requirement already satisfied: annotated-types>=0.4.0 in d:\\documentos\\maestria_en_inteligencia_artificial\\materias\\herramientas_para_la_inteligencia_artificial\\ejercicio_spacy\\env\\lib\\site-packages (from pydantic!=1.8,!=1.8.1,<3.0.0,>=1.7.4->spacy) (0.6.0)\n",
      "Requirement already satisfied: typing-extensions>=4.6.1 in d:\\documentos\\maestria_en_inteligencia_artificial\\materias\\herramientas_para_la_inteligencia_artificial\\ejercicio_spacy\\env\\lib\\site-packages (from pydantic!=1.8,!=1.8.1,<3.0.0,>=1.7.4->spacy) (4.11.0)\n",
      "Requirement already satisfied: pydantic-core==2.18.2 in d:\\documentos\\maestria_en_inteligencia_artificial\\materias\\herramientas_para_la_inteligencia_artificial\\ejercicio_spacy\\env\\lib\\site-packages (from pydantic!=1.8,!=1.8.1,<3.0.0,>=1.7.4->spacy) (2.18.2)\n",
      "Requirement already satisfied: idna<4,>=2.5 in d:\\documentos\\maestria_en_inteligencia_artificial\\materias\\herramientas_para_la_inteligencia_artificial\\ejercicio_spacy\\env\\lib\\site-packages (from requests<3.0.0,>=2.13.0->spacy) (3.7)\n",
      "Requirement already satisfied: charset-normalizer<4,>=2 in d:\\documentos\\maestria_en_inteligencia_artificial\\materias\\herramientas_para_la_inteligencia_artificial\\ejercicio_spacy\\env\\lib\\site-packages (from requests<3.0.0,>=2.13.0->spacy) (3.3.2)\n",
      "Requirement already satisfied: urllib3<3,>=1.21.1 in d:\\documentos\\maestria_en_inteligencia_artificial\\materias\\herramientas_para_la_inteligencia_artificial\\ejercicio_spacy\\env\\lib\\site-packages (from requests<3.0.0,>=2.13.0->spacy) (2.2.1)\n",
      "Requirement already satisfied: certifi>=2017.4.17 in d:\\documentos\\maestria_en_inteligencia_artificial\\materias\\herramientas_para_la_inteligencia_artificial\\ejercicio_spacy\\env\\lib\\site-packages (from requests<3.0.0,>=2.13.0->spacy) (2024.2.2)\n",
      "Requirement already satisfied: confection<1.0.0,>=0.0.1 in d:\\documentos\\maestria_en_inteligencia_artificial\\materias\\herramientas_para_la_inteligencia_artificial\\ejercicio_spacy\\env\\lib\\site-packages (from thinc<8.3.0,>=8.2.2->spacy) (0.1.4)\n",
      "Requirement already satisfied: blis<0.8.0,>=0.7.8 in d:\\documentos\\maestria_en_inteligencia_artificial\\materias\\herramientas_para_la_inteligencia_artificial\\ejercicio_spacy\\env\\lib\\site-packages (from thinc<8.3.0,>=8.2.2->spacy) (0.7.11)\n",
      "Requirement already satisfied: colorama in d:\\documentos\\maestria_en_inteligencia_artificial\\materias\\herramientas_para_la_inteligencia_artificial\\ejercicio_spacy\\env\\lib\\site-packages (from tqdm<5.0.0,>=4.38.0->spacy) (0.4.6)\n",
      "Requirement already satisfied: click<9.0.0,>=7.1.1 in d:\\documentos\\maestria_en_inteligencia_artificial\\materias\\herramientas_para_la_inteligencia_artificial\\ejercicio_spacy\\env\\lib\\site-packages (from typer<0.10.0,>=0.3.0->spacy) (8.1.7)\n",
      "Requirement already satisfied: cloudpathlib<0.17.0,>=0.7.0 in d:\\documentos\\maestria_en_inteligencia_artificial\\materias\\herramientas_para_la_inteligencia_artificial\\ejercicio_spacy\\env\\lib\\site-packages (from weasel<0.4.0,>=0.1.0->spacy) (0.16.0)\n",
      "Requirement already satisfied: MarkupSafe>=2.0 in d:\\documentos\\maestria_en_inteligencia_artificial\\materias\\herramientas_para_la_inteligencia_artificial\\ejercicio_spacy\\env\\lib\\site-packages (from jinja2->spacy) (2.1.5)\n"
     ]
    },
    {
     "name": "stderr",
     "output_type": "stream",
     "text": [
      "\n",
      "[notice] A new release of pip available: 22.3.1 -> 24.0\n",
      "[notice] To update, run: python.exe -m pip install --upgrade pip\n"
     ]
    },
    {
     "name": "stdout",
     "output_type": "stream",
     "text": [
      "Collecting es-core-news-sm==3.7.0\n",
      "  Downloading https://github.com/explosion/spacy-models/releases/download/es_core_news_sm-3.7.0/es_core_news_sm-3.7.0-py3-none-any.whl (12.9 MB)\n",
      "     --------------------------------------- 12.9/12.9 MB 17.7 MB/s eta 0:00:00\n",
      "Requirement already satisfied: spacy<3.8.0,>=3.7.0 in d:\\documentos\\maestria_en_inteligencia_artificial\\materias\\herramientas_para_la_inteligencia_artificial\\ejercicio_spacy\\env\\lib\\site-packages (from es-core-news-sm==3.7.0) (3.7.4)\n",
      "Requirement already satisfied: langcodes<4.0.0,>=3.2.0 in d:\\documentos\\maestria_en_inteligencia_artificial\\materias\\herramientas_para_la_inteligencia_artificial\\ejercicio_spacy\\env\\lib\\site-packages (from spacy<3.8.0,>=3.7.0->es-core-news-sm==3.7.0) (3.3.0)\n",
      "Requirement already satisfied: srsly<3.0.0,>=2.4.3 in d:\\documentos\\maestria_en_inteligencia_artificial\\materias\\herramientas_para_la_inteligencia_artificial\\ejercicio_spacy\\env\\lib\\site-packages (from spacy<3.8.0,>=3.7.0->es-core-news-sm==3.7.0) (2.4.8)\n",
      "Requirement already satisfied: requests<3.0.0,>=2.13.0 in d:\\documentos\\maestria_en_inteligencia_artificial\\materias\\herramientas_para_la_inteligencia_artificial\\ejercicio_spacy\\env\\lib\\site-packages (from spacy<3.8.0,>=3.7.0->es-core-news-sm==3.7.0) (2.31.0)\n",
      "Requirement already satisfied: packaging>=20.0 in d:\\documentos\\maestria_en_inteligencia_artificial\\materias\\herramientas_para_la_inteligencia_artificial\\ejercicio_spacy\\env\\lib\\site-packages (from spacy<3.8.0,>=3.7.0->es-core-news-sm==3.7.0) (24.0)\n",
      "Requirement already satisfied: murmurhash<1.1.0,>=0.28.0 in d:\\documentos\\maestria_en_inteligencia_artificial\\materias\\herramientas_para_la_inteligencia_artificial\\ejercicio_spacy\\env\\lib\\site-packages (from spacy<3.8.0,>=3.7.0->es-core-news-sm==3.7.0) (1.0.10)\n",
      "Requirement already satisfied: cymem<2.1.0,>=2.0.2 in d:\\documentos\\maestria_en_inteligencia_artificial\\materias\\herramientas_para_la_inteligencia_artificial\\ejercicio_spacy\\env\\lib\\site-packages (from spacy<3.8.0,>=3.7.0->es-core-news-sm==3.7.0) (2.0.8)\n",
      "Requirement already satisfied: catalogue<2.1.0,>=2.0.6 in d:\\documentos\\maestria_en_inteligencia_artificial\\materias\\herramientas_para_la_inteligencia_artificial\\ejercicio_spacy\\env\\lib\\site-packages (from spacy<3.8.0,>=3.7.0->es-core-news-sm==3.7.0) (2.0.10)\n",
      "Requirement already satisfied: tqdm<5.0.0,>=4.38.0 in d:\\documentos\\maestria_en_inteligencia_artificial\\materias\\herramientas_para_la_inteligencia_artificial\\ejercicio_spacy\\env\\lib\\site-packages (from spacy<3.8.0,>=3.7.0->es-core-news-sm==3.7.0) (4.66.2)\n",
      "Requirement already satisfied: wasabi<1.2.0,>=0.9.1 in d:\\documentos\\maestria_en_inteligencia_artificial\\materias\\herramientas_para_la_inteligencia_artificial\\ejercicio_spacy\\env\\lib\\site-packages (from spacy<3.8.0,>=3.7.0->es-core-news-sm==3.7.0) (1.1.2)\n",
      "Requirement already satisfied: weasel<0.4.0,>=0.1.0 in d:\\documentos\\maestria_en_inteligencia_artificial\\materias\\herramientas_para_la_inteligencia_artificial\\ejercicio_spacy\\env\\lib\\site-packages (from spacy<3.8.0,>=3.7.0->es-core-news-sm==3.7.0) (0.3.4)\n",
      "Requirement already satisfied: preshed<3.1.0,>=3.0.2 in d:\\documentos\\maestria_en_inteligencia_artificial\\materias\\herramientas_para_la_inteligencia_artificial\\ejercicio_spacy\\env\\lib\\site-packages (from spacy<3.8.0,>=3.7.0->es-core-news-sm==3.7.0) (3.0.9)\n",
      "Requirement already satisfied: pydantic!=1.8,!=1.8.1,<3.0.0,>=1.7.4 in d:\\documentos\\maestria_en_inteligencia_artificial\\materias\\herramientas_para_la_inteligencia_artificial\\ejercicio_spacy\\env\\lib\\site-packages (from spacy<3.8.0,>=3.7.0->es-core-news-sm==3.7.0) (2.7.1)\n",
      "Requirement already satisfied: numpy>=1.19.0 in d:\\documentos\\maestria_en_inteligencia_artificial\\materias\\herramientas_para_la_inteligencia_artificial\\ejercicio_spacy\\env\\lib\\site-packages (from spacy<3.8.0,>=3.7.0->es-core-news-sm==3.7.0) (1.26.4)\n",
      "Requirement already satisfied: setuptools in d:\\documentos\\maestria_en_inteligencia_artificial\\materias\\herramientas_para_la_inteligencia_artificial\\ejercicio_spacy\\env\\lib\\site-packages (from spacy<3.8.0,>=3.7.0->es-core-news-sm==3.7.0) (65.5.0)\n",
      "Requirement already satisfied: spacy-loggers<2.0.0,>=1.0.0 in d:\\documentos\\maestria_en_inteligencia_artificial\\materias\\herramientas_para_la_inteligencia_artificial\\ejercicio_spacy\\env\\lib\\site-packages (from spacy<3.8.0,>=3.7.0->es-core-news-sm==3.7.0) (1.0.5)\n",
      "Requirement already satisfied: jinja2 in d:\\documentos\\maestria_en_inteligencia_artificial\\materias\\herramientas_para_la_inteligencia_artificial\\ejercicio_spacy\\env\\lib\\site-packages (from spacy<3.8.0,>=3.7.0->es-core-news-sm==3.7.0) (3.1.3)\n",
      "Requirement already satisfied: spacy-legacy<3.1.0,>=3.0.11 in d:\\documentos\\maestria_en_inteligencia_artificial\\materias\\herramientas_para_la_inteligencia_artificial\\ejercicio_spacy\\env\\lib\\site-packages (from spacy<3.8.0,>=3.7.0->es-core-news-sm==3.7.0) (3.0.12)\n",
      "Requirement already satisfied: typer<0.10.0,>=0.3.0 in d:\\documentos\\maestria_en_inteligencia_artificial\\materias\\herramientas_para_la_inteligencia_artificial\\ejercicio_spacy\\env\\lib\\site-packages (from spacy<3.8.0,>=3.7.0->es-core-news-sm==3.7.0) (0.9.4)\n",
      "Requirement already satisfied: smart-open<7.0.0,>=5.2.1 in d:\\documentos\\maestria_en_inteligencia_artificial\\materias\\herramientas_para_la_inteligencia_artificial\\ejercicio_spacy\\env\\lib\\site-packages (from spacy<3.8.0,>=3.7.0->es-core-news-sm==3.7.0) (6.4.0)\n",
      "Requirement already satisfied: thinc<8.3.0,>=8.2.2 in d:\\documentos\\maestria_en_inteligencia_artificial\\materias\\herramientas_para_la_inteligencia_artificial\\ejercicio_spacy\\env\\lib\\site-packages (from spacy<3.8.0,>=3.7.0->es-core-news-sm==3.7.0) (8.2.3)\n",
      "Requirement already satisfied: annotated-types>=0.4.0 in d:\\documentos\\maestria_en_inteligencia_artificial\\materias\\herramientas_para_la_inteligencia_artificial\\ejercicio_spacy\\env\\lib\\site-packages (from pydantic!=1.8,!=1.8.1,<3.0.0,>=1.7.4->spacy<3.8.0,>=3.7.0->es-core-news-sm==3.7.0) (0.6.0)\n",
      "Requirement already satisfied: typing-extensions>=4.6.1 in d:\\documentos\\maestria_en_inteligencia_artificial\\materias\\herramientas_para_la_inteligencia_artificial\\ejercicio_spacy\\env\\lib\\site-packages (from pydantic!=1.8,!=1.8.1,<3.0.0,>=1.7.4->spacy<3.8.0,>=3.7.0->es-core-news-sm==3.7.0) (4.11.0)\n",
      "Requirement already satisfied: pydantic-core==2.18.2 in d:\\documentos\\maestria_en_inteligencia_artificial\\materias\\herramientas_para_la_inteligencia_artificial\\ejercicio_spacy\\env\\lib\\site-packages (from pydantic!=1.8,!=1.8.1,<3.0.0,>=1.7.4->spacy<3.8.0,>=3.7.0->es-core-news-sm==3.7.0) (2.18.2)\n",
      "Requirement already satisfied: idna<4,>=2.5 in d:\\documentos\\maestria_en_inteligencia_artificial\\materias\\herramientas_para_la_inteligencia_artificial\\ejercicio_spacy\\env\\lib\\site-packages (from requests<3.0.0,>=2.13.0->spacy<3.8.0,>=3.7.0->es-core-news-sm==3.7.0) (3.7)\n",
      "Requirement already satisfied: certifi>=2017.4.17 in d:\\documentos\\maestria_en_inteligencia_artificial\\materias\\herramientas_para_la_inteligencia_artificial\\ejercicio_spacy\\env\\lib\\site-packages (from requests<3.0.0,>=2.13.0->spacy<3.8.0,>=3.7.0->es-core-news-sm==3.7.0) (2024.2.2)\n",
      "Requirement already satisfied: charset-normalizer<4,>=2 in d:\\documentos\\maestria_en_inteligencia_artificial\\materias\\herramientas_para_la_inteligencia_artificial\\ejercicio_spacy\\env\\lib\\site-packages (from requests<3.0.0,>=2.13.0->spacy<3.8.0,>=3.7.0->es-core-news-sm==3.7.0) (3.3.2)\n",
      "Requirement already satisfied: urllib3<3,>=1.21.1 in d:\\documentos\\maestria_en_inteligencia_artificial\\materias\\herramientas_para_la_inteligencia_artificial\\ejercicio_spacy\\env\\lib\\site-packages (from requests<3.0.0,>=2.13.0->spacy<3.8.0,>=3.7.0->es-core-news-sm==3.7.0) (2.2.1)\n",
      "Requirement already satisfied: blis<0.8.0,>=0.7.8 in d:\\documentos\\maestria_en_inteligencia_artificial\\materias\\herramientas_para_la_inteligencia_artificial\\ejercicio_spacy\\env\\lib\\site-packages (from thinc<8.3.0,>=8.2.2->spacy<3.8.0,>=3.7.0->es-core-news-sm==3.7.0) (0.7.11)\n",
      "Requirement already satisfied: confection<1.0.0,>=0.0.1 in d:\\documentos\\maestria_en_inteligencia_artificial\\materias\\herramientas_para_la_inteligencia_artificial\\ejercicio_spacy\\env\\lib\\site-packages (from thinc<8.3.0,>=8.2.2->spacy<3.8.0,>=3.7.0->es-core-news-sm==3.7.0) (0.1.4)\n",
      "Requirement already satisfied: colorama in d:\\documentos\\maestria_en_inteligencia_artificial\\materias\\herramientas_para_la_inteligencia_artificial\\ejercicio_spacy\\env\\lib\\site-packages (from tqdm<5.0.0,>=4.38.0->spacy<3.8.0,>=3.7.0->es-core-news-sm==3.7.0) (0.4.6)\n",
      "Requirement already satisfied: click<9.0.0,>=7.1.1 in d:\\documentos\\maestria_en_inteligencia_artificial\\materias\\herramientas_para_la_inteligencia_artificial\\ejercicio_spacy\\env\\lib\\site-packages (from typer<0.10.0,>=0.3.0->spacy<3.8.0,>=3.7.0->es-core-news-sm==3.7.0) (8.1.7)\n",
      "Requirement already satisfied: cloudpathlib<0.17.0,>=0.7.0 in d:\\documentos\\maestria_en_inteligencia_artificial\\materias\\herramientas_para_la_inteligencia_artificial\\ejercicio_spacy\\env\\lib\\site-packages (from weasel<0.4.0,>=0.1.0->spacy<3.8.0,>=3.7.0->es-core-news-sm==3.7.0) (0.16.0)\n",
      "Requirement already satisfied: MarkupSafe>=2.0 in d:\\documentos\\maestria_en_inteligencia_artificial\\materias\\herramientas_para_la_inteligencia_artificial\\ejercicio_spacy\\env\\lib\\site-packages (from jinja2->spacy<3.8.0,>=3.7.0->es-core-news-sm==3.7.0) (2.1.5)\n",
      "\u001b[38;5;2m[+] Download and installation successful\u001b[0m\n",
      "You can now load the package via spacy.load('es_core_news_sm')\n"
     ]
    },
    {
     "name": "stderr",
     "output_type": "stream",
     "text": [
      "\n",
      "[notice] A new release of pip available: 22.3.1 -> 24.0\n",
      "[notice] To update, run: python.exe -m pip install --upgrade pip\n"
     ]
    }
   ],
   "source": [
    "# Instalar librerías\n",
    "!pip install spacy\n",
    "!python -m spacy download es_core_news_sm"
   ]
  },
  {
   "cell_type": "code",
   "execution_count": 2,
   "metadata": {},
   "outputs": [],
   "source": [
    "# Importar librerías\n",
    "import spacy"
   ]
  },
  {
   "cell_type": "code",
   "execution_count": 4,
   "metadata": {},
   "outputs": [],
   "source": [
    "# Cargar modelo de Spacy en español\n",
    "nlp = spacy.load(\"es_core_news_sm\")"
   ]
  },
  {
   "cell_type": "code",
   "execution_count": 6,
   "metadata": {},
   "outputs": [],
   "source": [
    "# Leer archivo txt\n",
    "texto = open(\"discurso.txt\", \"r\", encoding=\"utf-8\").read()"
   ]
  },
  {
   "cell_type": "code",
   "execution_count": 7,
   "metadata": {},
   "outputs": [],
   "source": [
    "# Convertir el texto en objeto de Spacy\n",
    "documento = nlp(texto)"
   ]
  },
  {
   "cell_type": "code",
   "execution_count": 8,
   "metadata": {},
   "outputs": [
    {
     "name": "stdout",
     "output_type": "stream",
     "text": [
      "Como ya no estaba matriculado y no tenía clases obligatorias, decidí atender al curso de caligrafía para aprender cómo se hacía.\n",
      "128\n",
      "Aprendí cosas sobre el serif y tipografías sans serif, sobre los espacios variables entre letras, sobre qué hace realmente grande a una gran tipografía.\n",
      "152\n",
      "Era sutilmente bello, histórica y artísticamente, de una forma que la ciencia no puede capturar, y lo encontré fascinante.\n",
      "122\n",
      "Nada de esto tenía ni la más mínima esperanza de aplicación práctica en mi vida.\n",
      "80\n",
      "Pero diez años más tarde, cuando estábamos diseñando el primer ordenador Macintosh, todo eso volvió a mí.\n",
      "105\n",
      "Y diseñamos el Mac con eso en su esencia.\n",
      "41\n",
      "Fue el primer ordenador con tipografías bellas.\n",
      "47\n",
      "Si nunca me hubiera dejado caer por aquel curso concreto en la universidad, el Mac jamás habría tenido múltiples tipografías, ni caracteres con espaciado proporcional.\n",
      "167\n",
      "Y como Windows no hizo más que copiar el Mac, es probable que ningún ordenador personal los tuviera ahora.\n",
      "106\n",
      "Si nunca hubiera decidido dejarlo, no habría entrado en esa clase de caligrafía y los ordenadores personales no tendrían la maravillosa tipografía que poseen.\n",
      "\n",
      "159\n"
     ]
    }
   ],
   "source": [
    "# Leer cada línea del texto e imprimir\n",
    "for linea in documento.sents :\n",
    "    print(linea)\n",
    "    print(len(str(linea))) # convertir objeto Spacy a String"
   ]
  },
  {
   "cell_type": "code",
   "execution_count": null,
   "metadata": {},
   "outputs": [],
   "source": []
  }
 ],
 "metadata": {
  "kernelspec": {
   "display_name": "Python 3 (ipykernel)",
   "language": "python",
   "name": "python3"
  },
  "language_info": {
   "codemirror_mode": {
    "name": "ipython",
    "version": 3
   },
   "file_extension": ".py",
   "mimetype": "text/x-python",
   "name": "python",
   "nbconvert_exporter": "python",
   "pygments_lexer": "ipython3",
   "version": "3.10.9"
  }
 },
 "nbformat": 4,
 "nbformat_minor": 4
}
